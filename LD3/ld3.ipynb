{
 "cells": [
  {
   "cell_type": "code",
   "execution_count": 53,
   "metadata": {},
   "outputs": [],
   "source": [
    "#from pyspark import SparkContext, SparkConf\n",
    "from pyspark.sql import SparkSession\n",
    "\n",
    "spark = SparkSession.builder.appName('Laboras3').getOrCreate()\n",
    "\n",
    "\n",
    "from pyspark.sql.functions import udf, log, col\n",
    "from pyspark.sql.types import *\n",
    "from pyspark.ml.regression import LinearRegression\n",
    "from pyspark.ml.feature import VectorAssembler\n",
    "\n",
    "#nuo spark 3.0 \n",
    "#spark.conf.set(\"spark.sql.legacy.setCommandRejectsSparkCoreConfs\",\"false\")\n",
    "\n",
    "#spark.conf.set(\"spark.dynamicAllocation.enabled\", \"true\")\n",
    "#spark.conf.set(\"spark.executor.instances\", 4)\n",
    "#spark.conf.set(\"spark.executor.cores\", 4)\n",
    "\n",
    "text_file = spark.sparkContext.textFile(\"duom_cut.txt\")\n",
    "#text_file = sc.textFile(\"hdfs:///user/stud0/labt/duom_cut.txt\")"
   ]
  },
  {
   "cell_type": "code",
   "execution_count": 47,
   "metadata": {},
   "outputs": [],
   "source": [
    "def parsinam(line):\n",
    "\t#line=line[2:len(line)-2]\n",
    "\treturn line[2:len(line)-2].split('}}{{')\n",
    "\n",
    "def parsinam2(line):\n",
    "\tobjs = line.split('}{')\n",
    "\tmarsrutas=None\n",
    "\tsustojimo_data=None\n",
    "\tmasinos_tipas=None\n",
    "\tsvoris=None\n",
    " \n",
    "\tfor at in objs:\n",
    "\t\ttemp = at.split('=')\n",
    "\t\tif(len(temp)<2): \n",
    "\t\t\tbreak\n",
    "\t\tkey,val=at.split('=')\n",
    "\t\tif(key == 'marsrutas'):\n",
    "\t\t\tmarsrutas=val\n",
    "\t\tif(key == 'sustojimo data'):\n",
    "\t\t\tsustojimo_data=val\n",
    "\t\tif(key == 'Masinos tipas'):\n",
    "\t\t\tmasinos_tipas=val\n",
    "\t\tif(key == 'svoris'):\n",
    "\t\t\tsvoris=val\n",
    "\tif(marsrutas!=None and sustojimo_data!=None and masinos_tipas!=None and svoris!=None):\n",
    "\t\treturn ((marsrutas+\"_\"+sustojimo_data, (masinos_tipas, float(svoris))))\n",
    "\t#else:\n",
    "\t#\treturn (0,(0,0))"
   ]
  },
  {
   "cell_type": "code",
   "execution_count": 48,
   "metadata": {},
   "outputs": [],
   "source": [
    "fmap = text_file.flatMap(parsinam)\n",
    "p = fmap.map(parsinam2).filter(lambda x: x != None)"
   ]
  },
  {
   "cell_type": "code",
   "execution_count": 49,
   "metadata": {},
   "outputs": [
    {
     "data": {
      "text/plain": [
       "[('102_2018-01-02', ('van', 402.8)),\n",
       " ('102_2018-01-03', ('van', 1363.7)),\n",
       " ('102_2018-01-05', ('van', 574.95)),\n",
       " ('102_2018-01-10', ('van', 868.3)),\n",
       " ('102_2018-01-16', ('van', 1210.5499999999997)),\n",
       " ('102_2018-01-17', ('van', 1288.7000000000003)),\n",
       " ('102_2018-01-18', ('van', 899.0000000000001)),\n",
       " ('102_2018-01-19', ('van', 1052.7500000000002)),\n",
       " ('102_2018-01-22', ('van', 1096.2)),\n",
       " ('102_2018-01-23', ('van', 374.8)),\n",
       " ('102_2018-01-24', ('van', 1287.6)),\n",
       " ('102_2018-01-25', ('van', 829.5)),\n",
       " ('102_2018-01-29', ('van', 170.85)),\n",
       " ('103_2018-01-18', ('van', 642.9)),\n",
       " ('103_2018-01-19', ('van', 497.15)),\n",
       " ('103_2018-01-23', ('van', 1077.5)),\n",
       " ('103_2018-01-24', ('van', 924.0)),\n",
       " ('102_2018-01-04', ('van', 798.8500000000001)),\n",
       " ('102_2018-01-08', ('van', 561.05)),\n",
       " ('102_2018-01-09', ('van', 1633.3499999999997)),\n",
       " ('102_2018-01-11', ('van', 1061.8)),\n",
       " ('102_2018-01-12', ('van', 335.59999999999997)),\n",
       " ('102_2018-01-15', ('van', 1031.8000000000002)),\n",
       " ('102_2018-01-26', ('van', 725.1999999999999)),\n",
       " ('102_2018-01-30', ('van', 1012.3000000000001)),\n",
       " ('102_2018-01-31', ('van', 1240.2)),\n",
       " ('103_2018-01-16', ('van', 706.0)),\n",
       " ('103_2018-01-17', ('van', 1045.4499999999998)),\n",
       " ('103_2018-01-25', ('van', 620.6999999999999)),\n",
       " ('103_2018-01-31', ('van', 518.3)),\n",
       " ('104_2018-01-02', ('van', 681.86)),\n",
       " ('104_2018-01-03', ('van', 118.9))]"
      ]
     },
     "execution_count": 49,
     "metadata": {},
     "output_type": "execute_result"
    }
   ],
   "source": [
    "mmap = p.reduceByKey(lambda a,b: (a[0], a[1]+b[1]))\n",
    "mmap.collect()"
   ]
  },
  {
   "cell_type": "code",
   "execution_count": 50,
   "metadata": {},
   "outputs": [
    {
     "data": {
      "text/plain": [
       "['van']"
      ]
     },
     "execution_count": 50,
     "metadata": {},
     "output_type": "execute_result"
    }
   ],
   "source": [
    "tipai = p.map(lambda x: (x[1][0])).distinct()\n",
    "tipai.collect()"
   ]
  },
  {
   "cell_type": "code",
   "execution_count": 52,
   "metadata": {},
   "outputs": [],
   "source": [
    "routes = spark.read.option(\"header\",True).csv(\"RouteSummary.txt\")\n",
    "routes = routes.drop(\"M\", \"BendrasAtstumas\",\"BendrasLaikas\",\"BendraKaina\")\n",
    "\n",
    "def makeID(str1, str2):\n",
    "    return str1+\"_\"+str2\n",
    "\t\n",
    "makeID_UDF = udf(lambda z1,z2: makeID(z1,z2),StringType())\n",
    "\n",
    "routes = routes.withColumn('ID', makeID_UDF(\"marsrutas\", \"sustojimo data\")).drop(\"marsrutas\", \"sustojimo data\")\n",
    "routes = routes.withColumn('BendrasSvoris', col('BendrasSvoris').cast(FloatType()))\n",
    "routes = routes.filter(col('BendrasSvoris').isNotNull())"
   ]
  },
  {
   "cell_type": "code",
   "execution_count": 55,
   "metadata": {},
   "outputs": [
    {
     "name": "stdout",
     "output_type": "stream",
     "text": [
      "Masinos tipas - van\n",
      "Coefficients: [0.5496713621023197]\n",
      "Intercept: 581.0544722931924\n",
      "numIterations: 2\n",
      "objectiveHistory: [0.5, 0.4359285682428404, 0.27999712856354014]\n",
      "+-------------------+\n",
      "|          residuals|\n",
      "+-------------------+\n",
      "|  -277.162109155038|\n",
      "|  88.05864237974924|\n",
      "| -322.1380097268898|\n",
      "|-192.88410379960533|\n",
      "|-0.2591885142803676|\n",
      "|  40.08404336554804|\n",
      "|  42.49092434869726|\n",
      "|  57.60895730827792|\n",
      "| -87.40426825788018|\n",
      "|  513.6286523627332|\n",
      "|  234.2886574497984|\n",
      "|-107.50686715706661|\n",
      "| -84.16583671540491|\n",
      "| -128.0381665747111|\n",
      "|-217.17356554829803|\n",
      "|-39.625413786566696|\n",
      "|  -97.4508108757359|\n",
      "|   516.190535677307|\n",
      "| 145.45243441336368|\n",
      "|  211.2397840029214|\n",
      "+-------------------+\n",
      "only showing top 20 rows\n",
      "\n",
      "RMSE: 221.252798\n",
      "r2: 0.441171\n",
      "[525.2999877929688, 1418.699951171875, 574.9500122070312, 865.4500122070312, 1246.199951171875, 1329.5, 1117.699951171875, 1217.3299560546875, 1096.199951171875, 1300.699951171875, 1523.0999755859375, 929.5, 590.7999877929688, 806.4000244140625, 637.1500244140625, 1133.699951171875, 991.5, 1536.3499755859375, 1034.9000244140625, 1690.0999755859375, 1068.25, 1200.199951171875, 1207.719970703125, 725.2000122070312, 1012.2999877929688, 1265.25, 834.5, 1154.449951171875, 752.7000122070312, 710.7999877929688, 697.530029296875, 1049.489990234375]\n",
      "[DenseVector([402.8]), DenseVector([1363.7]), DenseVector([574.95]), DenseVector([868.3]), DenseVector([1210.55]), DenseVector([1288.7]), DenseVector([899.0]), DenseVector([1052.75]), DenseVector([1096.2]), DenseVector([374.8]), DenseVector([1287.6]), DenseVector([829.5]), DenseVector([170.85]), DenseVector([642.9]), DenseVector([497.15]), DenseVector([1077.5]), DenseVector([924.0]), DenseVector([798.85]), DenseVector([561.05]), DenseVector([1633.35]), DenseVector([1061.8]), DenseVector([335.6]), DenseVector([1031.8]), DenseVector([725.2]), DenseVector([1012.3]), DenseVector([1240.2]), DenseVector([706.0]), DenseVector([1045.45]), DenseVector([620.7]), DenseVector([518.3]), DenseVector([681.86]), DenseVector([118.9])]\n"
     ]
    }
   ],
   "source": [
    "for tipas in tipai.collect():\n",
    "    print('Masinos tipas - ' + tipas)\n",
    "    \n",
    "    #filter by type\n",
    "    filteredDt = mmap.filter(lambda x: x[1][0] == tipas).map(lambda x: (x[0], x[1][1]))\n",
    "    \n",
    "    dt = filteredDt.toDF([\"ID\", \"Svoris\"]) # RDD -> DataFrame\n",
    "    joinedDt = dt.join(routes, \"ID\") #join datasets\n",
    "    \n",
    "    assembler = VectorAssembler(inputCols=[\"Svoris\"], outputCol=\"features\")\n",
    "    \n",
    "    asdt = assembler.transform(joinedDt)\n",
    "    asdt = asdt.drop('Svoris').drop('ID')\n",
    "    \n",
    "    lr = LinearRegression(maxIter=10, regParam=0.3, elasticNetParam=0.8, featuresCol='features', labelCol='BendrasSvoris')\n",
    "    lrModel = lr.fit(asdt)\n",
    "\n",
    "    # Print the coefficients and intercept for linear regression\n",
    "    print(\"Coefficients: %s\" % str(lrModel.coefficients))\n",
    "    print(\"Intercept: %s\" % str(lrModel.intercept))\n",
    "\n",
    "    # Summarize the model over the training set and print out some metrics\n",
    "    trainingSummary = lrModel.summary\n",
    "    print(\"numIterations: %d\" % trainingSummary.totalIterations)\n",
    "    print(\"objectiveHistory: %s\" % str(trainingSummary.objectiveHistory))\n",
    "    trainingSummary.residuals.show()\n",
    "    print(\"RMSE: %f\" % trainingSummary.rootMeanSquaredError)\n",
    "    print(\"r2: %f\" % trainingSummary.r2)\n",
    "    \n",
    "    pandasDF = asdt.toPandas()\n",
    "    pandasDF.head()\n",
    "\n",
    "    labels = pandasDF['BendrasSvoris'].to_list()\n",
    "    values = pandasDF['features'].to_list()\n",
    "    print(labels)\n",
    "    print(values)"
   ]
  }
 ],
 "metadata": {
  "kernelspec": {
   "display_name": "Python 3",
   "language": "python",
   "name": "python3"
  },
  "language_info": {
   "codemirror_mode": {
    "name": "ipython",
    "version": 3
   },
   "file_extension": ".py",
   "mimetype": "text/x-python",
   "name": "python",
   "nbconvert_exporter": "python",
   "pygments_lexer": "ipython3",
   "version": "3.11.3"
  },
  "orig_nbformat": 4
 },
 "nbformat": 4,
 "nbformat_minor": 2
}
