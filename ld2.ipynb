{
 "cells": [
  {
   "cell_type": "code",
   "execution_count": 4,
   "metadata": {},
   "outputs": [],
   "source": [
    "# Task - 1, when n = 8\n",
    "from pyspark import SparkConf, SparkContext\n",
    "\n",
    "conf = SparkConf().setAppName('MyApp')\n",
    "sc = SparkContext(conf=conf)"
   ]
  },
  {
   "cell_type": "code",
   "execution_count": 5,
   "metadata": {},
   "outputs": [],
   "source": [
    "A = sc.textFile('duom_cut.txt')\n"
   ]
  },
  {
   "cell_type": "code",
   "execution_count": 63,
   "metadata": {},
   "outputs": [
    {
     "name": "stdout",
     "output_type": "stream",
     "text": [
      "[('<300', 76.0), ('<300', 81.5), ('<50', 45.0), ('<50', 43.0), ('<50', 40.0), ('<50', 41.0), ('<300', 104.0), ('<300', 85.15), ('<300', 60.0), ('<300', 58.0), ('<300', 84.0), ('<50', 3.0), ('<300', 119.45), ('<300', 105.9), ('<50', 0.0), ('<300', 84.0), ('>300', 764.2), ('<300', 113.05), ('<300', 70.0), ('<50', 37.3)]\n"
     ]
    }
   ],
   "source": [
    "# map\n",
    "\n",
    "def map_func(x):\n",
    "    key = ''\n",
    "    value = float(0)\n",
    "    for entry in x:\n",
    "        e_key, e_value = entry.split('=')\n",
    "        if e_key == 'svorio grupe':\n",
    "            key = e_value\n",
    "        elif e_key == 'svoris':\n",
    "            try:\n",
    "                value = float(e_value)\n",
    "            except Exception as e:\n",
    "                pass\n",
    "    return (key, value)\n",
    "\n",
    "\n",
    "y = A.map(lambda x: x.strip())\\\n",
    "    .flatMap(lambda x: x.split('}}{{'))\\\n",
    "    .map(lambda x: x[2:] if x.startswith('{{') else x)\\\n",
    "    .map(lambda x: x[:-2] if x.startswith('}}') else x)\\\n",
    "    .map(lambda x: x.split('}{'))\\\n",
    "    .map(map_func)\\\n",
    "    .filter(lambda x: x[0] != '')\n",
    "\n",
    "print(y.take(20))\n"
   ]
  },
  {
   "cell_type": "code",
   "execution_count": 62,
   "metadata": {},
   "outputs": [
    {
     "name": "stdout",
     "output_type": "stream",
     "text": [
      "[('>300', 10852.599999999999), ('<50}}', 33.300000000000004), ('<300}}', 85.0), ('<300', 17561.5), ('<50', 2916.510000000001)]\n"
     ]
    }
   ],
   "source": [
    "res = y.reduceByKey(lambda x, y: x + y)\n",
    "\n",
    "print(res.take(20))\n"
   ]
  }
 ],
 "metadata": {
  "kernelspec": {
   "display_name": "Python 3",
   "language": "python",
   "name": "python3"
  },
  "language_info": {
   "codemirror_mode": {
    "name": "ipython",
    "version": 3
   },
   "file_extension": ".py",
   "mimetype": "text/x-python",
   "name": "python",
   "nbconvert_exporter": "python",
   "pygments_lexer": "ipython3",
   "version": "3.9.13"
  },
  "orig_nbformat": 4,
  "vscode": {
   "interpreter": {
    "hash": "c70f866acf167c6409b85689363a9dcfc1a99889e017ff680eaca8fcfcf52028"
   }
  }
 },
 "nbformat": 4,
 "nbformat_minor": 2
}
