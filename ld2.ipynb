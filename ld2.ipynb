{
 "cells": [
  {
   "cell_type": "code",
   "execution_count": 4,
   "metadata": {},
   "outputs": [],
   "source": [
    "# Task - 1, when n = 8\n",
    "from pyspark import SparkConf, SparkContext\n",
    "\n",
    "conf = SparkConf().setAppName('MyApp')\n",
    "sc = SparkContext(conf=conf)"
   ]
  },
  {
   "cell_type": "code",
   "execution_count": 5,
   "metadata": {},
   "outputs": [],
   "source": [
    "A = sc.textFile('duom_cut.txt')\n"
   ]
  },
  {
   "cell_type": "code",
   "execution_count": 46,
   "metadata": {},
   "outputs": [
    {
     "name": "stdout",
     "output_type": "stream",
     "text": [
      "[['tipas=B2C', 'Laikas po sustojimo=45.52', 'Firma=TRA', 'svorio grupe=<300', 'sustojimo savaites diena=2', 'pasto kodas=03114', 'Aptarnavimo grupe=B2C+', 'Ar reikalingos paletes=1', 'sustojimo data=2018-01-02', 'Sustojimo klientu skaicius=1', 'geografine zona=Z1', 'Marsruto tipas=van-city-unl', 'kaina procentas=0.1332995951417', 'sandelio id=580', 'Laukia=0', 'marsrutas=102', 'sustojimo klientu sarasas=LT3001894', 'kaina vienetais=2.60600708502024', 'laikas=11:23:36', 'Sustojimo numeris=4', 'svoris=76', 'Uzkrovimo tipas=KDR', 'siuntu skaicius=1', 'Masinos tipas=van', 'Laikas iki sustojimo=20.33'], ['Firma=TRA', 'Sustojimo klientu skaicius=1', 'marsrutas=102', 'pasto kodas=11308', 'Laikas iki sustojimo=0', 'Aptarnavimo grupe=B2C+', 'laikas=09:52:17', 'tipas=B2C', 'Sustojimo numeris=1', 'sustojimo savaites diena=2', 'kaina vienetais=2.17938967611336', 'Laikas po sustojimo=55.07', 'geografine zona=Z1', 'Marsruto tipas=van-city-unl', 'sustojimo klientu sarasas=LT4209420', 'kaina procentas=0.111477732793522', 'Laukia=0', 'sandelio id=580', 'Uzkrovimo tipas=UKD', 'sustojimo tipas=DD13', 'svoris=81.5', 'svorio grupe=<300', 'Masinos tipas=van', 'Ar reikalingos paletes=0', 'siuntu skaicius=4'], ['Firma=TRA', 'Laikas po sustojimo=20.33', 'sustojimo tipas=DD13', 'kaina vienetais=1.43459008097166', 'sustojimo savaites diena=2', 'laikas=11:03:16', 'Masinos tipas=van', 'Sustojimo numeris=3', 'Laukia=0', 'Ar reikalingos paletes=0', 'sustojimo data=2018-01-02', 'Laikas iki sustojimo=15.92', 'marsrutas=102', 'Sustojimo klientu skaicius=1', 'svorio grupe=<50', 'svoris=45', 'tipas=B2C', 'kaina procentas=0.0733805668016194', 'siuntu skaicius=1', 'sustojimo klientu sarasas=LT4209420', 'Aptarnavimo grupe=B2C++2', 'Uzkrovimo tipas=UKD', 'geografine zona=Z1', 'pasto kodas=03122', 'Marsruto tipas=van-city-unl'], ['marsrutas=102', 'Sustojimo numeris=7', 'sandelio id=580', 'Laukia=0', 'Firma=TRA', 'svoris=43', 'Ar reikalingos paletes=0', 'svorio grupe=<50', 'Marsruto tipas=van-city-unl', 'Sustojimo klientu skaicius=1', 'kaina vienetais=1.54342105263158', 'Masinos tipas=van', 'laikas=13:01:57', 'tipas=B2C', 'sustojimo klientu sarasas=LT4209420', 'geografine zona=Z1', 'kaina procentas=0.0789473684210526', 'sustojimo tipas=DD13', 'pasto kodas=01115', 'sustojimo data=2018-01-02', 'Aptarnavimo grupe=B2C', 'sustojimo savaites diena=2', 'siuntu skaicius=2', 'Laikas iki sustojimo=25.35', 'Uzkrovimo tipas=UKD'], ['sustojimo data=2018-01-02', 'geografine zona=Z1', 'marsrutas=102', 'Aptarnavimo grupe=B2C', 'Masinos tipas=van', 'sustojimo tipas=DD13', 'svoris=94.8', 'Uzkrovimo tipas=UKD', 'Ar reikalingos paletes=1', 'pasto kodas=03201', 'Laikas po sustojimo=15.92', 'Firma=TRA', 'Sustojimo klientu skaicius=1', 'sandelio id=580', 'tipas=B2C', 'Sustojimo numeris=2', 'Laikas iki sustojimo=55.07', 'Laukia=0', 'sustojimo savaites diena=2', 'siuntu skaicius=3', 'laikas=10:47:21', 'sustojimo klientu sarasas=LV0000575', 'kaina procentas=0.143704453441296', 'kaina vienetais=2.80942206477733', 'Marsruto tipas=van-city-unl'], ['Laukia=0', 'Uzkrovimo tipas=UKD', 'pasto kodas=10226', 'sustojimo savaites diena=2', 'kaina vienetais=2.09074190283401', 'svorio grupe=<50', 'Aptarnavimo grupe=B2C', 'Firma=TRA', 'sustojimo data=2018-01-02', 'laikas=12:36:36', 'Laikas po sustojimo=25.35', 'sustojimo tipas=DD13', 'Masinos tipas=van', 'geografine zona=Z1', 'tipas=B2C', 'Marsruto tipas=van-city-unl', 'Sustojimo numeris=6', 'Ar reikalingos paletes=0', 'Sustojimo klientu skaicius=1', 'kaina procentas=0.106943319838057', 'Laikas iki sustojimo=27.48', 'siuntu skaicius=1', 'sustojimo klientu sarasas=LT3048583', 'marsrutas=102', 'svoris=40'], ['Ar reikalingos paletes=0', 'Masinos tipas=van', 'pasto kodas=11208', 'Firma=TRA', 'Sustojimo klientu skaicius=1', 'Laikas iki sustojimo=45.52', 'tipas=B2C', 'svorio grupe=<50', 'sustojimo savaites diena=2', 'laikas=12:09:07', 'Sustojimo numeris=5', 'geografine zona=Z1', 'sustojimo klientu sarasas=LT3048583', 'sustojimo data=2018-01-02', 'svoris=41', 'Uzkrovimo tipas=UKD', 'Marsruto tipas=van-city-unl', 'Laukia=0', 'Laikas po sustojimo=27.48', 'sustojimo tipas=DD13', 'kaina procentas=0.147773279352227', 'Aptarnavimo grupe=B2C', 'siuntu skaicius=1', 'kaina vienetais=2.88896761133603', 'sandelio id=580'], ['Laikas po sustojimo=0', 'Aptarnavimo grupe=Classic', 'Masinos tipas=van', 'kaina vienetais=0.540197368421053', 'sustojimo data=2018-01-02', 'Ar reikalingos paletes=0', 'svorio grupe=<300', 'marsrutas=102', 'siuntu skaicius=1', 'svoris=104', 'laikas=13:15:36', 'Firma=TRA', 'sustojimo klientu sarasas=LT3000202', 'tipas=B2B', 'sandelio id=580', 'Laikas iki sustojimo=13.65', 'sustojimo savaites diena=2', 'pasto kodas=01103', 'kaina procentas=0.0276315789473684', 'Laukia=0', 'Marsruto tipas=van-city-unl', 'Uzkrovimo tipas=', 'Sustojimo numeris=8', 'geografine zona=Z1', 'sustojimo tipas=PD15'], ['tipas=B2C', 'siuntu skaicius=2', 'Firma=TRA', 'marsrutas=102', 'kaina vienetais=2.19420443425076', 'Laukia=0', 'geografine zona=Z1', 'Aptarnavimo grupe=B2C', 'svoris=85.15', 'Masinos tipas=van', 'sustojimo klientu sarasas=LT3048583', 'Laikas po sustojimo=28.73', 'Uzkrovimo tipas=UKD', 'laikas=12:32:51', 'svorio grupe=<300', 'sustojimo tipas=DD13', 'Ar reikalingos paletes=0', 'sustojimo data=2018-01-03', 'Laikas iki sustojimo=20.6', 'Sustojimo klientu skaicius=1', 'sandelio id=580', 'kaina procentas=0.0754281345565749', 'Sustojimo numeris=6', 'sustojimo savaites diena=3', 'Marsruto tipas=van-city-unl'], ['sandelio id=580', 'Masinos tipas=van', 'kaina vienetais=1.49542171253823', 'kaina procentas=0.0514067278287462', 'tipas=B2C', 'Ar reikalingos paletes=0', 'pasto kodas=01144', 'sustojimo tipas=DD13', 'svorio grupe=<300', 'Firma=TRA', 'laikas=13:15:29', 'geografine zona=Z1', 'Aptarnavimo grupe=B2C', 'sustojimo klientu sarasas=LT3001894', 'Sustojimo klientu skaicius=1', 'marsrutas=102', 'Marsruto tipas=van-city-unl', 'Laikas po sustojimo=19.72', 'siuntu skaicius=1', 'sustojimo data=2018-01-03', 'Laukia=0', 'svoris=60', 'Sustojimo numeris=8', 'Laikas iki sustojimo=13.9', 'Uzkrovimo tipas=KDR'], ['marsrutas=102', 'sustojimo data=2018-01-03', 'Ar reikalingos paletes=0', 'Marsruto tipas=van-city-unl', 'kaina vienetais=1.8961876146789', 'Laikas po sustojimo=13.9', 'tipas=B2C', 'Masinos tipas=van', 'Uzkrovimo tipas=UKD', 'Sustojimo numeris=7', 'Laikas iki sustojimo=28.73', 'Sustojimo klientu skaicius=1', 'siuntu skaicius=1', 'laikas=13:01:35', 'sandelio id=580', 'sustojimo tipas=DD13', 'kaina procentas=0.0651834862385321', 'svorio grupe=<300', 'Firma=TRA', 'geografine zona=Z1', 'sustojimo savaites diena=3', 'pasto kodas=01128', 'Laukia=0', 'sustojimo klientu sarasas=LT3001894', 'svoris=58'], ['Aptarnavimo grupe=B2C', 'sustojimo savaites diena=3', 'marsrutas=102', 'siuntu skaicius=1', 'svoris=84', 'pasto kodas=01113', 'kaina procentas=0.199724770642202', 'Sustojimo numeris=5', 'sustojimo klientu sarasas=LT3048583', 'Firma=TRA', 'Marsruto tipas=van-city-unl', 'svorio grupe=<300', 'Laikas po sustojimo=20.6', 'sustojimo data=2018-01-03', 'kaina vienetais=5.80999357798165', 'sandelio id=580', 'Masinos tipas=van', 'Laukia=0', 'Ar reikalingos paletes=0', 'geografine zona=Z1', 'Laikas iki sustojimo=110.02', 'Uzkrovimo tipas=UKD', 'sustojimo tipas=DD13', 'Sustojimo klientu skaicius=1', 'laikas=12:12:15'], ['kaina vienetais=5.50530474006116', 'sustojimo tipas=DD13', 'Marsruto tipas=van-city-unl', 'laikas=10:22:14', 'sustojimo savaites diena=3', 'Aptarnavimo grupe=B2C', 'svorio grupe=<50', 'Masinos tipas=van', 'Uzkrovimo tipas=', 'siuntu skaicius=1', 'Sustojimo klientu skaicius=1', 'sustojimo klientu sarasas=LT3011349', 'Laikas po sustojimo=110.02', 'marsrutas=102', 'sustojimo data=2018-01-03', 'kaina procentas=0.189250764525994', 'Ar reikalingos paletes=0', 'Sustojimo numeris=4', 'sandelio id=580', 'pasto kodas=09308', 'svoris=3', 'tipas=B2C', 'Laikas iki sustojimo=13.75', 'Laukia=0', 'geografine zona=Z1'], ['Marsruto tipas=van-city-unl', 'kaina vienetais=1.16760321100917', 'pasto kodas=03220', 'kaina procentas=0.0401376146788991', 'Aptarnavimo grupe=B2C', 'Sustojimo klientu skaicius=2', 'Sustojimo numeris=9', 'Ar reikalingos paletes=0', 'siuntu skaicius=25', 'Masinos tipas=van', 'tipas=B2C', 'Firma=TRA', 'laikas=13:35:12', 'Uzkrovimo tipas=UKD', 'sustojimo klientu sarasas=LT3009897|LT4209420', 'sustojimo data=2018-01-03', 'sustojimo tipas=DD13', 'Laukia=0', 'geografine zona=Z1', 'svorio grupe=<300', 'marsrutas=102', 'Laikas iki sustojimo=19.72', 'sustojimo savaites diena=3', 'svoris=119.45', 'Laikas po sustojimo=6.53'], ['svoris=105.9', 'Marsruto tipas=van-city-unl', 'svorio grupe=<300', 'geografine zona=Z1', 'marsrutas=102', 'tipas=B2B', 'Laikas po sustojimo=13.75', 'kaina vienetais=1.15559357798165', 'Firma=TRA', 'sandelio id=580', 'Laikas iki sustojimo=12.23', 'Uzkrovimo tipas=', 'Ar reikalingos paletes=0', 'sustojimo savaites diena=3', 'Sustojimo klientu skaicius=7', 'Sustojimo numeris=3', 'siuntu skaicius=31', 'sustojimo tipas=DD13', 'laikas=10:08:29', 'kaina procentas=0.0397247706422018', 'pasto kodas=03225', 'Laukia=0', 'sustojimo data=2018-01-03', 'Masinos tipas=van', 'sustojimo klientu sarasas=EE0000560|LT3001452|LT3003903|LT3004011|LT3005311|LT3008061|LT3051702'], ['sandelio id=580', 'Ar reikalingos paletes=0', 'Sustojimo numeris=10', 'sustojimo savaites diena=3', 'geografine zona=Z1', 'tipas=B2C', 'Firma=TRA', 'Laukia=0', 'sustojimo data=2018-01-03', 'sustojimo klientu sarasas=LT3001894', 'Masinos tipas=van', 'Sustojimo klientu skaicius=1', 'Uzkrovimo tipas=', 'marsrutas=102', 'Aptarnavimo grupe=B2C', 'pasto kodas=03101', 'siuntu skaicius=1', 'Marsruto tipas=van-city-unl', 'sustojimo tipas=DD13', 'laikas=13:41:44', 'kaina procentas=0.00998470948012233', 'Laikas iki sustojimo=6.53', 'Laikas po sustojimo=0', 'kaina vienetais=0.290455198776758', 'svorio grupe=<50'], ['Aptarnavimo grupe=B2C', 'geografine zona=Z1', 'pasto kodas=01302', 'laikas=09:56:15', 'Marsruto tipas=van-city-unl', 'sustojimo data=2018-01-03', 'tipas=B2C', 'Uzkrovimo tipas=', 'Firma=TRA', 'siuntu skaicius=1', 'sustojimo klientu sarasas=LT4177612', 'sustojimo savaites diena=3', 'Masinos tipas=van', 'svorio grupe=<300', 'marsrutas=102', 'Sustojimo klientu skaicius=1', 'Laukia=0', 'Sustojimo numeris=2', 'kaina vienetais=1.37132217125382', 'sustojimo tipas=DD13', 'Laikas po sustojimo=12.23', 'Laikas iki sustojimo=18.6', 'kaina procentas=0.0471406727828746', 'svoris=84', 'Ar reikalingos paletes=0'], ['sustojimo tipas=DD13', 'Firma=TRA', 'sustojimo data=2018-01-03', 'sustojimo savaites diena=3', 'Sustojimo klientu skaicius=9', 'tipas=B2B', 'Marsruto tipas=van-city-unl', 'kaina vienetais=0.827330275229358', 'pasto kodas=01309', 'marsrutas=102', 'geografine zona=Z1', 'svorio grupe=>300', 'Uzkrovimo tipas=', 'siuntu skaicius=102', 'kaina procentas=0.0284403669724771', 'Ar reikalingos paletes=0', 'sustojimo klientu sarasas=LT3000202|LT3000259|LT3003421|LT3008229|LT3013282|LT3051702|LT3098524|PL0001310|PL0001326', 'Aptarnavimo grupe=Classic', 'Masinos tipas=van', 'laikas=09:37:39', 'Sustojimo numeris=1', 'Laukia=0', 'svoris=764.2', 'Laikas po sustojimo=18.6', 'sandelio id=580'], ['kaina procentas=0.115718309859155', 'sustojimo data=2018-01-04', 'Marsruto tipas=van-city-unl', 'laikas=10:47:11', 'Masinos tipas=van', 'Sustojimo numeris=7', 'Laikas iki sustojimo=5.18', 'Laukia=0', 'Sustojimo klientu skaicius=2', 'svorio grupe=<300', 'tipas=B2B', 'siuntu skaicius=22', 'pasto kodas=01204', 'kaina vienetais=3.06306366197183', 'Ar reikalingos paletes=0', 'sustojimo tipas=DD13', 'geografine zona=Z1', 'svoris=113.05', 'Firma=TRA', 'sustojimo savaites diena=4', 'sustojimo klientu sarasas=LT3000294|LT3002089', 'Laikas po sustojimo=76.98', 'marsrutas=102', 'sandelio id=580', 'Aptarnavimo grupe=Classic'], ['kaina vienetais=3.92128816901408', 'Masinos tipas=van', 'marsrutas=102', 'sustojimo savaites diena=4', 'sandelio id=580', 'geografine zona=Z1', 'pasto kodas=03116', 'Marsruto tipas=van-city-unl', 'Sustojimo numeris=8', 'sustojimo tipas=DD13', 'Aptarnavimo grupe=B2C', 'Firma=TRA', 'sustojimo data=2018-01-04', 'Uzkrovimo tipas=', 'tipas=B2C', 'laikas=12:04:10', 'svoris=70', 'sustojimo klientu sarasas=LT3013282', 'Laikas po sustojimo=28.2', 'kaina procentas=0.148140845070423', 'siuntu skaicius=1', 'Sustojimo klientu skaicius=1', 'Laukia=0', 'Laikas iki sustojimo=76.98', 'svorio grupe=<300']]\n"
     ]
    }
   ],
   "source": [
    "# map\n",
    "\n",
    "y = A.map(lambda x: x.strip())\\\n",
    "    .flatMap(lambda x: x.split('}}{{'))\\\n",
    "    .map(lambda x: x[2:] if x.startswith('{{') else x)\\\n",
    "    .map(lambda x: x[:-2] if x.startswith('}}') else x)\\\n",
    "    .map(lambda x: x.split('}{'))\n",
    "\n",
    "print(y.take(20))\n"
   ]
  },
  {
   "cell_type": "code",
   "execution_count": 50,
   "metadata": {},
   "outputs": [
    {
     "name": "stdout",
     "output_type": "stream",
     "text": [
      "[('<300', '76'), ('<300', '81.5'), ('<50', '45'), ('<50', '43'), (None, '94.8'), ('<50', '40'), ('<50', '41'), ('<300', '104'), ('<300', '85.15'), ('<300', '60'), ('<300', '58'), ('<300', '84'), ('<50', '3'), ('<300', '119.45'), ('<300', '105.9'), ('<50', None), ('<300', '84'), ('>300', '764.2'), ('<300', '113.05'), ('<300', '70')]\n"
     ]
    }
   ],
   "source": [
    "def map_func(x):\n",
    "    key = None\n",
    "    value = None\n",
    "    for entry in x:\n",
    "        e_key, e_value = entry.split('=')\n",
    "        if e_key == 'svorio grupe':\n",
    "            key = e_value\n",
    "        elif e_key == 'svoris':\n",
    "            value = e_value\n",
    "\n",
    "    return (key, value)\n",
    "\n",
    "\n",
    "y1 = y.map(map_func)\n",
    "\n",
    "print(y1.take(20))\n"
   ]
  }
 ],
 "metadata": {
  "kernelspec": {
   "display_name": "Python 3",
   "language": "python",
   "name": "python3"
  },
  "language_info": {
   "codemirror_mode": {
    "name": "ipython",
    "version": 3
   },
   "file_extension": ".py",
   "mimetype": "text/x-python",
   "name": "python",
   "nbconvert_exporter": "python",
   "pygments_lexer": "ipython3",
   "version": "3.9.13"
  },
  "orig_nbformat": 4,
  "vscode": {
   "interpreter": {
    "hash": "c70f866acf167c6409b85689363a9dcfc1a99889e017ff680eaca8fcfcf52028"
   }
  }
 },
 "nbformat": 4,
 "nbformat_minor": 2
}
