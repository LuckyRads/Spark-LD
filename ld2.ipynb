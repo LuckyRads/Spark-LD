{
 "cells": [
  {
   "cell_type": "code",
   "execution_count": 1,
   "metadata": {},
   "outputs": [],
   "source": [
    "# Task - 1, when n = 8\n",
    "from pyspark import SparkConf, SparkContext\n",
    "\n",
    "conf = SparkConf().setAppName('MyApp')\n",
    "sc = SparkContext(conf=conf)\n"
   ]
  },
  {
   "cell_type": "code",
   "execution_count": 2,
   "metadata": {},
   "outputs": [],
   "source": [
    "A = sc.textFile('duom_cut.txt')\n"
   ]
  },
  {
   "cell_type": "code",
   "execution_count": 3,
   "metadata": {},
   "outputs": [
    {
     "name": "stdout",
     "output_type": "stream",
     "text": [
      "[('<300', 76.0), ('<300', 81.5), ('<50', 45.0), ('<50', 43.0), ('<50', 40.0), ('<50', 41.0), ('<300', 104.0), ('<300', 85.15), ('<300', 60.0), ('<300', 58.0), ('<300', 84.0), ('<50', 3.0), ('<300', 119.45), ('<300', 105.9), ('<50', 0.0), ('<300', 84.0), ('>300', 764.2), ('<300', 113.05), ('<300', 70.0), ('<50', 37.3)]\n"
     ]
    }
   ],
   "source": [
    "# map\n",
    "\n",
    "def map_func(x):\n",
    "    key = ''\n",
    "    value = float(0)\n",
    "    for entry in x:\n",
    "        e_key, e_value = entry.split('=')\n",
    "        if e_key == 'svorio grupe':\n",
    "            key = e_value.replace('}}', '').replace('{{', '')\n",
    "        elif e_key == 'svoris':\n",
    "            try:\n",
    "                value = float(e_value.replace('}}', '').replace('{{', ''))\n",
    "            except Exception as e:\n",
    "                pass\n",
    "    return (key, value)\n",
    "\n",
    "\n",
    "y = A.map(lambda x: x.strip())\\\n",
    "    .flatMap(lambda x: x.split('}}{{'))\\\n",
    "    .map(lambda x: x[2:] if x.startswith('{{') else x)\\\n",
    "    .map(lambda x: x[:-2] if x.startswith('}}') else x)\\\n",
    "    .map(lambda x: x.split('}{'))\\\n",
    "    .map(map_func)\\\n",
    "    .filter(lambda x: x[0] != '')\n",
    "\n",
    "print(y.take(20))\n"
   ]
  },
  {
   "cell_type": "code",
   "execution_count": 4,
   "metadata": {},
   "outputs": [
    {
     "name": "stdout",
     "output_type": "stream",
     "text": [
      "[('>300', (10852.599999999999, 21)), ('<300', (17646.5, 176)), ('<50', (2959.2600000000007, 285))]\n"
     ]
    }
   ],
   "source": [
    "def reduce_func(x, y):\n",
    "    return (x[0] + y[0], x[1] + y[1])\n",
    "\n",
    "\n",
    "reduced = y.mapValues(lambda x:  (x, 1))\\\n",
    "    .reduceByKey(reduce_func)\n",
    "\n",
    "print(reduced.take(20))"
   ]
  },
  {
   "cell_type": "code",
   "execution_count": 7,
   "metadata": {},
   "outputs": [
    {
     "name": "stdout",
     "output_type": "stream",
     "text": [
      "[('>300', 516.7904761904762), ('<300', 100.26420454545455), ('<50', 10.383368421052634)]\n",
      "[('>300', 21), ('<300', 176), ('<50', 285)]\n",
      "[('>300', 10852.599999999999), ('<300', 17646.5), ('<50', 2959.2600000000007)]\n"
     ]
    }
   ],
   "source": [
    "# Statistics\n",
    "\n",
    "avg = reduced.mapValues(lambda x: x[0] / x[1])\n",
    "print(avg.collect())\n",
    "\n",
    "min = reduced.mapValues(lambda x: x[0] if x[0] < x[1] else x[1])\n",
    "print(min.collect())\n",
    "\n",
    "max = reduced.mapValues(lambda x: x[0] if x[0] > x[1] else x[1])\n",
    "print(max.collect())\n"
   ]
  }
 ],
 "metadata": {
  "kernelspec": {
   "display_name": "Python 3",
   "language": "python",
   "name": "python3"
  },
  "language_info": {
   "codemirror_mode": {
    "name": "ipython",
    "version": 3
   },
   "file_extension": ".py",
   "mimetype": "text/x-python",
   "name": "python",
   "nbconvert_exporter": "python",
   "pygments_lexer": "ipython3",
   "version": "3.9.13"
  },
  "orig_nbformat": 4,
  "vscode": {
   "interpreter": {
    "hash": "c70f866acf167c6409b85689363a9dcfc1a99889e017ff680eaca8fcfcf52028"
   }
  }
 },
 "nbformat": 4,
 "nbformat_minor": 2
}
