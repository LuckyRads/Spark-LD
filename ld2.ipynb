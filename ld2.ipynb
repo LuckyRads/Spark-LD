{
 "cells": [
  {
   "cell_type": "code",
   "execution_count": 1,
   "metadata": {},
   "outputs": [],
   "source": [
    "from pyspark import SparkContext, SparkConf\n",
    "\n",
    "conf2 = SparkConf().setAppName('MyApp')\n",
    "sc = SparkContext(conf=conf2)"
   ]
  },
  {
   "cell_type": "code",
   "execution_count": 2,
   "metadata": {},
   "outputs": [],
   "source": [
    "A = sc.textFile('duom_cut.txt')\n"
   ]
  },
  {
   "cell_type": "code",
   "execution_count": 30,
   "metadata": {},
   "outputs": [],
   "source": [
    "# map\n",
    "y = A.map(lambda x: x.strip().split())\\\n",
    "    .flatMap(lambda x: x)\n",
    "# .map(lambda x: x[2:] if x.startswith('{{') else x)\\\n",
    "#     .map(lambda x: x[:-2] if x.endswith('}}') else x)\n",
    "    \n",
    "print(y.take(10))"
   ]
  }
 ],
 "metadata": {
  "kernelspec": {
   "display_name": "Python 3",
   "language": "python",
   "name": "python3"
  },
  "language_info": {
   "codemirror_mode": {
    "name": "ipython",
    "version": 3
   },
   "file_extension": ".py",
   "mimetype": "text/x-python",
   "name": "python",
   "nbconvert_exporter": "python",
   "pygments_lexer": "ipython3",
   "version": "3.9.13"
  },
  "orig_nbformat": 4,
  "vscode": {
   "interpreter": {
    "hash": "c70f866acf167c6409b85689363a9dcfc1a99889e017ff680eaca8fcfcf52028"
   }
  }
 },
 "nbformat": 4,
 "nbformat_minor": 2
}
